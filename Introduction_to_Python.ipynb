{
  "cells": [
    {
      "cell_type": "markdown",
      "metadata": {
        "id": "p2oeMIzePyRn"
      },
      "source": [
        "# **Introduction to Python**\n",
        "Python is a programming language. Programming languages allow you, the user, to communicate and issue commands to your device, the computer (which is essentially a fancy rock -- if you think about it).\n",
        "\n",
        "There are a lot of programming languages. Different languages give the user varying levels of control over what operations the user's input can accomplish. Python is considered a programming language with a \"high-level of abstraction\".\n",
        "\n",
        "Essentially, this means that programs written in Python require fewer direct instructions from the user: some processes are taken care of automatically in the background."
      ]
    },
    {
      "cell_type": "markdown",
      "metadata": {
        "id": "ZmP18nwnUGYR"
      },
      "source": [
        "## **Learning Goals:**\n",
        "In this notebook, we are going to do the following:\n",
        "\n",
        "1. We will see how basic operations (e.g. +, -, *, /) can be evaluated (like a calculator) using Python.\n",
        "2. We will encounter some basic syntax of Python (e.g. logical `if` statements, `for` loops, and function definitions `def`).\n",
        "3. We will apply this knowledge to construct, and to calculate with, some new mathematical functions (e.g. the factorial function and a summatory function)."
      ]
    },
    {
      "cell_type": "markdown",
      "metadata": {
        "id": "QOvUcrFWOzWq"
      },
      "source": [
        "# 1. Essential Operations\n",
        "\n",
        "Python allows us to evaluate simple expressions. This means that, if there is some numerical value that we want to calculate -- that we've written as a sequence of mathematical operations -- we can do this by running the expression as a code-block written in Python.\n",
        "\n",
        "For addition, we have the `+` operation.\n",
        "\n",
        "For subtraction, we have the `-`operation.\n",
        "\n",
        "For multiplication, we have the `*` operation.\n",
        "\n",
        "For division, we have the `/` operation.\n",
        "\n",
        "For exponentiation, we have the `**` operation."
      ]
    },
    {
      "cell_type": "markdown",
      "metadata": {
        "id": "87cwT7_WRBVh"
      },
      "source": [
        "**Example**\n",
        "\n",
        "Evaluate the expression below (by running the code block -- you can do this by highlighting the block and pressing `shift`+`enter` simultaneously.) Confirm that the answer makes sense."
      ]
    },
    {
      "cell_type": "code",
      "execution_count": null,
      "metadata": {
        "id": "lFBZSNTvQUPu"
      },
      "outputs": [],
      "source": [
        "33*3+2"
      ]
    },
    {
      "cell_type": "markdown",
      "metadata": {
        "id": "tgt43GLfRfPK"
      },
      "source": [
        "**Example**\n",
        "\n",
        "Calculate the value (mentally -- in your head) located in the code block below. Confirm your answer by evaluating the expression."
      ]
    },
    {
      "cell_type": "code",
      "execution_count": null,
      "metadata": {
        "id": "yr3r0qbhRsPr"
      },
      "outputs": [],
      "source": [
        "(((50+2)/4+3)/4)**2"
      ]
    },
    {
      "cell_type": "markdown",
      "metadata": {
        "id": "eMdV3dSCSDNQ"
      },
      "source": [
        "**Remark**\n",
        "\n",
        "You should know that python distinguishes between whole number values (like 2 and 3 and -5, also called \"integers\") and values called \"floating-point numbers\" (which include some -- but crucially not all decimal values).\n",
        "\n",
        "If there is no decimal point, as in `5`, then this is an integer. If there is a decimal point, as in `5.0`, then this is a floating-point number. Since not all decimal points can be described using machine binary, floating-point numbers are often \"rounded decimal numbers\".\n",
        "\n",
        "This rounding can lead to (sometimes unexpectedly) inaccurate (or incorrect) answers for the true value of an expression. There are ways to mitigate these errors but, we'll most likely just ignore them.\n",
        "\n",
        "*What result would you expect the following to produce?*"
      ]
    },
    {
      "cell_type": "code",
      "execution_count": null,
      "metadata": {
        "id": "nBHTKBvIIYDP"
      },
      "outputs": [],
      "source": [
        "0.1+0.2"
      ]
    },
    {
      "cell_type": "markdown",
      "metadata": {
        "id": "VY20dspCVHVQ"
      },
      "source": [
        "**Example**\n",
        "\n",
        "The symbol `=` is used to assign values to variables. We can store values in variables, write expressions in these variables, and then evaluate the value of the expression."
      ]
    },
    {
      "cell_type": "code",
      "execution_count": null,
      "metadata": {
        "id": "fuLVJQGXVG7I"
      },
      "outputs": [],
      "source": [
        "x=3/2\n",
        "y=1/2\n",
        "\n",
        "x**2+y**2"
      ]
    },
    {
      "cell_type": "markdown",
      "metadata": {
        "id": "vEqax8ljV48e"
      },
      "source": [
        "We can assign a new value to the variable `x`, and evaluate the same expression. You should see an updated value.\n"
      ]
    },
    {
      "cell_type": "code",
      "execution_count": null,
      "metadata": {
        "id": "G94K57-vVyBn"
      },
      "outputs": [],
      "source": [
        "x=1\n",
        "\n",
        "x**2+y**2"
      ]
    },
    {
      "cell_type": "markdown",
      "metadata": {
        "id": "hmCq7C30W1Le"
      },
      "source": [
        "**Remark**\n",
        "\n",
        "You may wonder, after seeing that `=` is used for assignment, how do you compare two variables? If we declare `x=1` and `y=2`, then `x=y`, what should we get?"
      ]
    },
    {
      "cell_type": "code",
      "execution_count": null,
      "metadata": {
        "id": "Klg4XEmzXHf6"
      },
      "outputs": [],
      "source": [
        "x=1\n",
        "y=2\n",
        "x=y\n",
        "x"
      ]
    },
    {
      "cell_type": "markdown",
      "metadata": {
        "id": "vbfl0Em-XLvg"
      },
      "source": [
        "The above code assigns the value of the variable `y` to the variable `x`. To check if two variables (or expressions) store the same variable, we must use the comparison operator `==`."
      ]
    },
    {
      "cell_type": "code",
      "execution_count": null,
      "metadata": {
        "id": "58nZXCyGXecq"
      },
      "outputs": [],
      "source": [
        "x=1\n",
        "y=2\n",
        "x==y"
      ]
    },
    {
      "cell_type": "code",
      "execution_count": null,
      "metadata": {
        "id": "ZJ5gPv2JXy5y"
      },
      "outputs": [],
      "source": [
        "y==x+1"
      ]
    },
    {
      "cell_type": "markdown",
      "metadata": {
        "id": "Y-rEqV87Uxv9"
      },
      "source": [
        "# 2. Python Syntax\n",
        "\n",
        "There are three keywords of Python we'll learn in this notebook: `if`, `for`, and `def`."
      ]
    },
    {
      "cell_type": "markdown",
      "source": [
        "## 2.1) If conditions\n",
        "\n",
        "The `if` keyword is used to filter logical expressions by their truth value."
      ],
      "metadata": {
        "id": "sNbWG1ks9PZO"
      }
    },
    {
      "cell_type": "markdown",
      "metadata": {
        "id": "afHxlAAXZyb8"
      },
      "source": [
        "**Example**"
      ]
    },
    {
      "cell_type": "code",
      "execution_count": null,
      "metadata": {
        "id": "aqy2sHS7X62I"
      },
      "outputs": [],
      "source": [
        "a=2+2\n",
        "\n",
        "if a==3:\n",
        "  print(\"I hate Math 11a\")\n",
        "\n",
        "if a==4:\n",
        "  print(\"Math 11a is the best\")\n",
        "\n",
        "if a==5:\n",
        "  print(\"This class is soo boring\")"
      ]
    },
    {
      "cell_type": "markdown",
      "metadata": {
        "id": "xi8ZLnyPYt6K"
      },
      "source": [
        "Truth values (or Booleans, i.e. `True` and `False`) come up frequently in comparison. We have already seen one operator which compares two expressions, `==`.\n",
        "\n",
        "Other comparsion operators include the:\n",
        "1. is less than operator `<`,\n",
        "2. is greater than operator `>`,\n",
        "3. is less than or equal to `<=`,\n",
        "4. is greater than or equal to `>=`,\n",
        "5. and the not equal operator `!=`."
      ]
    },
    {
      "cell_type": "markdown",
      "metadata": {
        "id": "DLNPmgfmZ5Tz"
      },
      "source": [
        "**Example**\n",
        "\n",
        "Which of the following statements will print when evaluated? There may be more than one correct answer."
      ]
    },
    {
      "cell_type": "code",
      "execution_count": null,
      "metadata": {
        "id": "UUETAn3JZcNL"
      },
      "outputs": [],
      "source": [
        "x=12\n",
        "y=x-3\n",
        "z=2-y**2\n",
        "\n",
        "if z==0:\n",
        "  print(\"Are you sure?\")\n",
        "if z>0:\n",
        "  if z<50:\n",
        "    if z>30:\n",
        "      print(\"This is option 1\")\n",
        "    if z<=30:\n",
        "      print(\"This is option 2\")\n",
        "  if z>=50:\n",
        "    print(\"This is option 3\")\n",
        "if z<0:\n",
        "  if z>-100:\n",
        "    print(\"This is option 4\")\n",
        "  if z!=-30:\n",
        "    print(\"This is option 5\")\n",
        "  if z<=-100:\n",
        "    print(\"This is option 6\")\n",
        "    if z<=-150:\n",
        "      print(\"This is option 7\")\n",
        "    if z<-150:\n",
        "      print(\"This is option 8\")"
      ]
    },
    {
      "cell_type": "markdown",
      "metadata": {
        "id": "1fwOz2_4bgIO"
      },
      "source": [
        "## 2.2) for loops\n",
        "\n",
        "The `for` keyword allows one to iterate an instruction or delcaration some number of times in a \"loop\". Inside the `for` loop block, code is run from top to bottom, and then circles back to the top, until it completes the specified number of iterations.\n",
        "\n",
        "The syntax we'll use regularly is as follows.\n",
        "\n",
        "`for` (variable) `in` (collection):\n",
        "\n",
        "Typically our collection will just be something like `range(10)` which specifies a range of 10 integers starting at `0`. Python allows for a wide variety of collections as input, however, and we will see more of them in the future."
      ]
    },
    {
      "cell_type": "markdown",
      "metadata": {
        "id": "TXJlkw0TcQEm"
      },
      "source": [
        "**Example**\n",
        "\n",
        "To see explicitly what values are described by `range(n)`, we can simply print them. Notice that the indexing variable `i` updates each loop."
      ]
    },
    {
      "cell_type": "code",
      "execution_count": null,
      "metadata": {
        "id": "CxqzZCtZbpSd"
      },
      "outputs": [],
      "source": [
        "for i in range(5):\n",
        "  print(i)"
      ]
    },
    {
      "cell_type": "markdown",
      "metadata": {
        "id": "JzvcoYI-cRz3"
      },
      "source": [
        "**Example**\n",
        "\n",
        "Can you reason out what this code block will do? What will be the final value of `j`?"
      ]
    },
    {
      "cell_type": "code",
      "execution_count": null,
      "metadata": {
        "id": "ty9aaG2Ib0z4"
      },
      "outputs": [],
      "source": [
        "j=0\n",
        "for i in range(5):\n",
        "  print(\"This is currently i:\", i)\n",
        "  print(\"This is currently j:\", j)\n",
        "  j=j+i\n",
        "  print(\"This is now j:\", j)\n"
      ]
    },
    {
      "cell_type": "markdown",
      "metadata": {
        "id": "_yDCa5GHevVV"
      },
      "source": [
        "## 2.3) functions: def and return\n",
        "\n",
        "The final keywords that we're going to introduce are `def` and `return`. The `def`  keyword is used to construct a function in Python and the `return` keyword tells you what the output of that function should be."
      ]
    },
    {
      "cell_type": "markdown",
      "metadata": {
        "id": "ertWBSPEfNPc"
      },
      "source": [
        "**Example**\n",
        "\n",
        "So far, we've seen that there is an operation `+` that allows us to add two terms. What if we wanted a new function that allows us to add three numbers at once?"
      ]
    },
    {
      "cell_type": "code",
      "execution_count": null,
      "metadata": {
        "id": "Na8A0KxXeTPh"
      },
      "outputs": [],
      "source": [
        "def Sum(a,b,c):\n",
        "  return a+b+c"
      ]
    },
    {
      "cell_type": "markdown",
      "metadata": {
        "id": "7XLu1p10ft8L"
      },
      "source": [
        "Now whenever we have three numbers we want to add, we can just call our personal function `Sum`, and Python will use the definition we've provided to evaluate the result.\n",
        "\n",
        "In this way, the keyword `def` allows us to make a function (sort of like a template for how you would take an input, or inputs, to an output) and the keyword `return` tells us what is the output.\n",
        "\n",
        "Try running the code below to verify (if it doesn't work, remember to evaluate the code block with our function definition, so Python knows what to look for)."
      ]
    },
    {
      "cell_type": "code",
      "execution_count": null,
      "metadata": {
        "id": "4X31BPNTgng7"
      },
      "outputs": [],
      "source": [
        "Sum(0,1,2)"
      ]
    },
    {
      "cell_type": "code",
      "execution_count": null,
      "metadata": {
        "id": "dRFY4eVRgpQ3"
      },
      "outputs": [],
      "source": [
        "Sum(2,4,5)"
      ]
    },
    {
      "cell_type": "code",
      "execution_count": null,
      "metadata": {
        "id": "_egqp8Lqgs5b"
      },
      "outputs": [],
      "source": [
        "Sum(-1,0,2)"
      ]
    },
    {
      "cell_type": "markdown",
      "metadata": {
        "id": "Q5S9YIQ3g0yu"
      },
      "source": [
        "**Example**\n",
        "\n",
        "The true utility of the function construction comes from combining the building blocks that we've learned about so far to give more elaborate return values.\n",
        "\n",
        "For example, we can now define a function `Factorial` that returns, given an integer `n`, the value of the factorial `n!`.\n",
        "\n",
        "Recall that `n!` is defined, for `n>=1` as the product of all whole numbers between `1` and `n`, like `n*(n-1)*(n-2)*...*3*2*1`. (And we also define `0!=1`.)"
      ]
    },
    {
      "cell_type": "code",
      "execution_count": null,
      "metadata": {
        "id": "D_L-hy_Pgv06"
      },
      "outputs": [],
      "source": [
        "def Factorial(n):\n",
        "\n",
        "  if n<0:\n",
        "    print(\"Only nonnegative numbers please\")\n",
        "    return\n",
        "\n",
        "  if n==0:\n",
        "    return 1\n",
        "\n",
        "  j=1\n",
        "  for i in range(n):\n",
        "    j=j*(i+1)\n",
        "\n",
        "  return j"
      ]
    },
    {
      "cell_type": "markdown",
      "metadata": {
        "id": "w83tiz4DiBKw"
      },
      "source": [
        "Try evaluating the block below. Change the input values a few times and verify that you are getting the answer you expect. Notice that, when the code logically gets to a `return` keyword, the code exits the function and immediately gives the value specified in the return."
      ]
    },
    {
      "cell_type": "code",
      "execution_count": null,
      "metadata": {
        "id": "pSytX6X8iADC"
      },
      "outputs": [],
      "source": [
        "Factorial(-1)"
      ]
    },
    {
      "cell_type": "markdown",
      "metadata": {
        "id": "YG8uc_r6jRJr"
      },
      "source": [
        "# 3. Exercises\n",
        "\n",
        "Complete the following exercises. Once you've finished, print or export this notebook to a .pdf file and submit it to the corresponding Gradescope assignment."
      ]
    },
    {
      "cell_type": "markdown",
      "metadata": {
        "id": "CSsuvmBHkBSn"
      },
      "source": [
        "**Exercise 1**\n",
        "\n",
        "Bob has 15 quarters, 13 dimes, 12 nickels, and 3 pennies. Write an expression that evaluates to the value of Bob's change."
      ]
    },
    {
      "cell_type": "code",
      "execution_count": null,
      "metadata": {
        "id": "qISr4Ap9kSps"
      },
      "outputs": [],
      "source": []
    },
    {
      "cell_type": "markdown",
      "metadata": {
        "id": "ewqrGz2Xl98k"
      },
      "source": [
        "**Exercise 2**\n",
        "\n",
        "Alice, Bob, and Eve have just gone fishing. Bob notices that he has caught 3 times as many fish as Alice. Alice notices that if she had caught 2 more fish, then she would have caught the square of Eve's number of fish. Eve caught 5 fish. (These are obviously nonsensical numbers for an average fishing trip.)\n",
        "\n",
        "Define three variables that describe the number of fish caught by Alice, Bob, and Eve respectively. Evaluate your code to determine how many fish were caught by each person.\n",
        "\n",
        "(The order that you define the variables may be important. You might want to define a variable before trying to use it.)"
      ]
    },
    {
      "cell_type": "code",
      "execution_count": null,
      "metadata": {
        "id": "adsx5mcYoIuh"
      },
      "outputs": [],
      "source": []
    },
    {
      "cell_type": "markdown",
      "metadata": {
        "id": "4qcNacN4oKdT"
      },
      "source": [
        "**Exercise 3**\n",
        "\n",
        "A line passes through the points (0,1) and (2,4). Write a function `Line` that takes an arbitrary value as input, and outputs the y-coordinate of the point on the line with that has the input value as its x-coordinate.\n",
        "\n",
        "(In other words, find the equation for the line y=mx+b and write a function that returns y given x.)"
      ]
    },
    {
      "cell_type": "code",
      "execution_count": null,
      "metadata": {
        "id": "9P3hadiioont"
      },
      "outputs": [],
      "source": []
    },
    {
      "cell_type": "markdown",
      "metadata": {
        "id": "FM2EuRd2os9V"
      },
      "source": [
        "What should these values be?"
      ]
    },
    {
      "cell_type": "code",
      "execution_count": null,
      "metadata": {
        "id": "McWxNAwaopap"
      },
      "outputs": [],
      "source": [
        "Line(0)"
      ]
    },
    {
      "cell_type": "code",
      "execution_count": null,
      "metadata": {
        "id": "f_eGcmMrovHG"
      },
      "outputs": [],
      "source": [
        "Line(2)"
      ]
    },
    {
      "cell_type": "markdown",
      "metadata": {
        "id": "o6AiPUU4ouhU"
      },
      "source": [
        "What does this value represent?"
      ]
    },
    {
      "cell_type": "code",
      "execution_count": null,
      "metadata": {
        "id": "uONSvSjfoz7d"
      },
      "outputs": [],
      "source": [
        "Line(-2/3)"
      ]
    },
    {
      "cell_type": "markdown",
      "metadata": {
        "id": "tjc1KM4HkXnW"
      },
      "source": [
        "**Exercise 4**\n",
        "\n",
        "Construct a function `Summation` that takes an integer `n>=0` as input and outputs the sum of all integers from `0` to `n`.\n",
        "\n",
        "You should be able to evaluate\n",
        "\n",
        "1. `Summation(0)` to be `0`\n",
        "2. `Summation(3)` to be `0+1+2+3`, i.e. `6`\n",
        "3. `Summation(6)` to be `0+1+2+3+4+5+6` i.e. `21`.\n",
        "\n",
        "Also, handle the case that the integer `n` is less than zero by returning a statement like in the case of the `Factorial` function above."
      ]
    },
    {
      "cell_type": "code",
      "execution_count": null,
      "metadata": {
        "id": "QmdMhVgWlXyz"
      },
      "outputs": [],
      "source": []
    },
    {
      "cell_type": "code",
      "execution_count": null,
      "metadata": {
        "id": "kRtqPaxdkZqB"
      },
      "outputs": [],
      "source": [
        "Summation(0)"
      ]
    },
    {
      "cell_type": "code",
      "execution_count": null,
      "metadata": {
        "id": "kvunD87alQ7e"
      },
      "outputs": [],
      "source": [
        "Summation(3)"
      ]
    },
    {
      "cell_type": "code",
      "execution_count": null,
      "metadata": {
        "id": "46AGMFU2lZaN"
      },
      "outputs": [],
      "source": [
        "Summation(6)"
      ]
    },
    {
      "cell_type": "code",
      "execution_count": null,
      "metadata": {
        "id": "5k12bmwSlahb"
      },
      "outputs": [],
      "source": [
        "Summation(-10)"
      ]
    }
  ],
  "metadata": {
    "colab": {
      "provenance": [],
      "toc_visible": true
    },
    "kernelspec": {
      "display_name": "Python 3 (ipykernel)",
      "language": "python",
      "name": "python3"
    },
    "language_info": {
      "codemirror_mode": {
        "name": "ipython",
        "version": 3
      },
      "file_extension": ".py",
      "mimetype": "text/x-python",
      "name": "python",
      "nbconvert_exporter": "python",
      "pygments_lexer": "ipython3",
      "version": "3.10.12"
    }
  },
  "nbformat": 4,
  "nbformat_minor": 0
}